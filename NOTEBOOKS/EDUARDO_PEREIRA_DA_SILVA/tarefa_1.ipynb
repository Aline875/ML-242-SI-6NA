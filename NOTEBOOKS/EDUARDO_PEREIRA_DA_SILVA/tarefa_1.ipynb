{
 "cells": [
  {
   "cell_type": "markdown",
   "metadata": {},
   "source": [
    "Crie um notebook que apresente as seguintes informações sobre a lista:\n",
    "\n",
    "Valor máximo\n",
    "Valor mínimo\n",
    "Média aritmética dos valores\n",
    "Mediana dos valores\n",
    "Desvio padrão dos valores.\n",
    "\n",
    "O arquivo deve conter o nome tarefa_1.ipynb. Envie o arquivo na sua respectiva pasta em NOTEBOOKS."
   ]
  },
  {
   "cell_type": "code",
   "execution_count": null,
   "metadata": {},
   "outputs": [],
   "source": [
    "import numpy as np\n",
    "import pandas as pd\n",
    "\n",
    "# Lista de valores\n",
    "valores = [4, 6, 3, 4, 5, 8, 4, 2]\n",
    "\n",
    "# Cálculos\n",
    "valor_maximo = np.max(valores)\n",
    "valor_minimo = np.min(valores)\n",
    "media_aritmetica = np.mean(valores)\n",
    "mediana = np.median(valores)\n",
    "desvio_padrao = np.std(valores)\n",
    "\n",
    "# DF para exibir os resultados\n",
    "df = pd.DataFrame({\n",
    "    \"Métrica\": [\"Valor Máximo\", \"Valor Mínimo\", \"Média Aritmética\", \"Mediana\", \"Desvio Padrão\"],\n",
    "    \"Valor\": [valor_maximo, valor_minimo, media_aritmetica, mediana, desvio_padrao]\n",
    "})\n",
    "\n",
    "df\n"
   ]
  }
 ],
 "metadata": {
  "kernelspec": {
   "display_name": "base",
   "language": "python",
   "name": "python3"
  },
  "language_info": {
   "codemirror_mode": {
    "name": "ipython",
    "version": 3
   },
   "file_extension": ".py",
   "mimetype": "text/x-python",
   "name": "python",
   "nbconvert_exporter": "python",
   "pygments_lexer": "ipython3",
   "version": "3.12.3"
  }
 },
 "nbformat": 4,
 "nbformat_minor": 2
}
